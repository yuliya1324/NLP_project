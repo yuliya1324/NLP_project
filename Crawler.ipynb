{
 "cells": [
  {
   "cell_type": "code",
   "execution_count": 29,
   "metadata": {},
   "outputs": [],
   "source": [
    "import requests\n",
    "from bs4 import BeautifulSoup\n",
    "import time"
   ]
  },
  {
   "cell_type": "code",
   "execution_count": 34,
   "metadata": {},
   "outputs": [
    {
     "name": "stdout",
     "output_type": "stream",
     "text": [
      "2\n",
      "3\n",
      "4\n",
      "5\n",
      "6\n"
     ]
    }
   ],
   "source": [
    "hrefs = []\n",
    "i = 1\n",
    "while len(hrefs) < 100:\n",
    "    response = requests.get(f\"https://fanfics.me/fandom2/fics?size=1&status=1&reit1=3&reit=General&page={i}#fics\")\n",
    "    html_content = response.text\n",
    "    soup = BeautifulSoup(html_content, 'html.parser')\n",
    "    refs = soup.find_all('div', {'class': 'FicTable'})\n",
    "    for ref in refs:\n",
    "        href = ref.find_all('h4')[0]\n",
    "        hrefs.append('https://fanfics.me' + href.find_all('a')[0].get('href'))\n",
    "    i += 1\n",
    "    print(i)\n",
    "    time.sleep(3)"
   ]
  },
  {
   "cell_type": "code",
   "execution_count": 37,
   "metadata": {},
   "outputs": [],
   "source": [
    "def write_text(meta, text, i):\n",
    "    with open(f'texts/{i}.txt', 'w', encoding='utf-8') as file:\n",
    "        file.write(meta['author']+'\\n')\n",
    "        file.write(meta['data']+'\\n')\n",
    "        file.write(meta['title']+'\\n')\n",
    "        file.write(meta['url']+'\\n')\n",
    "        file.write(text)"
   ]
  },
  {
   "cell_type": "code",
   "execution_count": 38,
   "metadata": {},
   "outputs": [],
   "source": [
    "i = 0\n",
    "for a in hrefs:\n",
    "    response = requests.get(a)\n",
    "    html_content = response.text\n",
    "    soup = BeautifulSoup(html_content, 'html.parser')\n",
    "    meta = {'author': soup.find('a', {'class': 'user'}).get_text(), \n",
    "            'data': soup.find('span', {'class': 'DateUpdate'}).get_text(), \n",
    "            'title': soup.find('h1').get_text(), \n",
    "            'url': a}\n",
    "    read_link = 'https://fanfics.me' + soup.find('a', {'class': 'red'}).get('href')\n",
    "    response = requests.get(read_link)\n",
    "    html_content = response.text\n",
    "    soup = BeautifulSoup(html_content, 'html.parser')\n",
    "    text = soup.find('div', {'class': 'chapter'}).get_text()\n",
    "    write_text(meta, text, i)\n",
    "    i += 1"
   ]
  },
  {
   "cell_type": "code",
   "execution_count": null,
   "metadata": {},
   "outputs": [],
   "source": []
  }
 ],
 "metadata": {
  "kernelspec": {
   "display_name": "Python 3",
   "language": "python",
   "name": "python3"
  },
  "language_info": {
   "codemirror_mode": {
    "name": "ipython",
    "version": 3
   },
   "file_extension": ".py",
   "mimetype": "text/x-python",
   "name": "python",
   "nbconvert_exporter": "python",
   "pygments_lexer": "ipython3",
   "version": "3.8.5"
  }
 },
 "nbformat": 4,
 "nbformat_minor": 4
}
