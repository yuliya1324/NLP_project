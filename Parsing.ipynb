{
 "cells": [
  {
   "cell_type": "code",
   "execution_count": 1,
   "metadata": {},
   "outputs": [],
   "source": [
    "import spacy\n",
    "import jsonlines\n",
    "import re\n",
    "\n",
    "nlp_spacy = spacy.load(\"ru_core_news_sm\")"
   ]
  },
  {
   "cell_type": "code",
   "execution_count": 2,
   "metadata": {},
   "outputs": [],
   "source": [
    "def parse(text):\n",
    "    doc = nlp_spacy(text)\n",
    "    return [{'text': token.text, 'word': token.text.lower(), 'lemma': token.lemma_, 'PoS': token.pos_} for token in doc\n",
    "            if token.pos_ != 'SPACE']"
   ]
  },
  {
   "cell_type": "code",
   "execution_count": 19,
   "metadata": {},
   "outputs": [],
   "source": [
    "for i in range(100):\n",
    "    with open(f'texts/{i}.txt', encoding='utf-8') as file_read:\n",
    "        with jsonlines.open(f'docs/{i}.jsonl', mode='w') as file_write:\n",
    "            text = file_read.read().split('\\n')\n",
    "            file_write.write({'author': text[0], \n",
    "                              'data': text[1], \n",
    "                              'title': text[2], \n",
    "                              'url': text[3]})\n",
    "            sents = []\n",
    "            text = ' '.join(text[4:])\n",
    "            text = re.split(r'([.!?])', text)[:-1]\n",
    "            for j in range(0, len(text), 2):\n",
    "                sents.append(parse(text[j] + text[j+1]))\n",
    "            file_write.write_all(sents)"
   ]
  },
  {
   "cell_type": "code",
   "execution_count": null,
   "metadata": {},
   "outputs": [],
   "source": []
  }
 ],
 "metadata": {
  "kernelspec": {
   "display_name": "Python 3",
   "language": "python",
   "name": "python3"
  },
  "language_info": {
   "codemirror_mode": {
    "name": "ipython",
    "version": 3
   },
   "file_extension": ".py",
   "mimetype": "text/x-python",
   "name": "python",
   "nbconvert_exporter": "python",
   "pygments_lexer": "ipython3",
   "version": "3.8.5"
  }
 },
 "nbformat": 4,
 "nbformat_minor": 4
}